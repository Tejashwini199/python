{
  "nbformat": 4,
  "nbformat_minor": 0,
  "metadata": {
    "colab": {
      "name": "pythonassignment.ipynb",
      "provenance": [],
      "collapsed_sections": []
    },
    "kernelspec": {
      "name": "python3",
      "display_name": "Python 3"
    }
  },
  "cells": [
    {
      "cell_type": "code",
      "metadata": {
        "id": "JQf9zFo-yVAH",
        "colab_type": "code",
        "colab": {}
      },
      "source": [
        "def menu():\n",
        "    print(\"option 1\")\n",
        "    print(\"option 2\")\n",
        "    print(\"option 3\")\n",
        "    print(\"exit 0\")\n",
        "\n",
        "def option3():\n",
        "    print(\"option 3 called\")\n",
        "\n",
        "menu()\n",
        "option = int(input(\"Enter your option:\"))\n",
        "\n",
        "while option !=0:\n",
        "    if option==1:\n",
        "        print(\"option 1 called\")\n",
        "    elif option==2:\n",
        "        print(\"option 2 called\")\n",
        "    elif option==3:\n",
        "        print(\"option 3 called\")\n",
        "    else:\n",
        "        print(\"invalid option\")\n",
        "\n",
        "    print()\n",
        "    menu()\n",
        "    option=int(input(\"enter your option:\"))\n",
        "print(\"thanks\")\n",
        "\n"
      ],
      "execution_count": null,
      "outputs": []
    }
  ]
}